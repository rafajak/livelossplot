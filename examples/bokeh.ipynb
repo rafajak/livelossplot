{
 "cells": [
  {
   "cell_type": "code",
   "execution_count": 4,
   "metadata": {
    "ExecuteTime": {
     "end_time": "2019-03-02T08:24:59.816268Z",
     "start_time": "2019-03-02T08:24:59.492126Z"
    }
   },
   "outputs": [
    {
     "name": "stdout",
     "output_type": "stream",
     "text": [
      "The autoreload extension is already loaded. To reload it, use:\n",
      "  %reload_ext autoreload\n"
     ]
    }
   ],
   "source": [
    "%matplotlib inline\n",
    "%load_ext autoreload\n",
    "%autoreload 2\n",
    "\n",
    "\n",
    "from time import sleep\n",
    "import numpy as np\n",
    "\n",
    "#loading from the local directory\n",
    "import sys\n",
    "sys.path.append(\"..\")  # Adds higher directory to python modules path.\n",
    "\n",
    "from livelossplot import PlotLosses\n",
    "# from livelossplot import PlotLosses\n",
    "%reload_ext autoreload"
   ]
  },
  {
   "cell_type": "code",
   "execution_count": 5,
   "metadata": {
    "ExecuteTime": {
     "end_time": "2019-03-02T08:25:50.230241Z",
     "start_time": "2019-03-02T08:25:37.675669Z"
    },
    "scrolled": false
   },
   "outputs": [
    {
     "data": {
      "text/html": [
       "\n",
       "\n",
       "\n",
       "\n",
       "\n",
       "\n",
       "  <div class=\"bk-root\" id=\"42e8e6cc-01dc-46e1-a309-df9d55e34f3a\"></div>\n"
      ]
     },
     "metadata": {},
     "output_type": "display_data"
    },
    {
     "data": {
      "application/javascript": [
       "(function(root) {\n",
       "  function embed_document(root) {\n",
       "    \n",
       "  var docs_json = {\"30fc2326-5500-48b3-b17a-c68e63b45164\":{\"roots\":{\"references\":[{\"attributes\":{\"children\":[{\"id\":\"6658\",\"type\":\"ToolbarBox\"},{\"id\":\"6656\",\"type\":\"Column\"}]},\"id\":\"6659\",\"type\":\"Column\"},{\"attributes\":{\"source\":{\"id\":\"6558\",\"type\":\"ColumnDataSource\"}},\"id\":\"6562\",\"type\":\"CDSView\"},{\"attributes\":{\"data_source\":{\"id\":\"6619\",\"type\":\"ColumnDataSource\"},\"glyph\":{\"id\":\"6620\",\"type\":\"Line\"},\"hover_glyph\":null,\"muted_glyph\":null,\"nonselection_glyph\":{\"id\":\"6621\",\"type\":\"Line\"},\"selection_glyph\":null,\"view\":{\"id\":\"6623\",\"type\":\"CDSView\"}},\"id\":\"6622\",\"type\":\"GlyphRenderer\"},{\"attributes\":{},\"id\":\"6533\",\"type\":\"PanTool\"},{\"attributes\":{\"source\":{\"id\":\"6619\",\"type\":\"ColumnDataSource\"}},\"id\":\"6623\",\"type\":\"CDSView\"},{\"attributes\":{},\"id\":\"6536\",\"type\":\"ResetTool\"},{\"attributes\":{\"data_source\":{\"id\":\"6545\",\"type\":\"ColumnDataSource\"},\"glyph\":{\"id\":\"6546\",\"type\":\"Line\"},\"hover_glyph\":null,\"muted_glyph\":null,\"nonselection_glyph\":{\"id\":\"6547\",\"type\":\"Line\"},\"selection_glyph\":null,\"view\":{\"id\":\"6549\",\"type\":\"CDSView\"}},\"id\":\"6548\",\"type\":\"GlyphRenderer\"},{\"attributes\":{\"label\":{\"value\":\"validation\"},\"renderers\":[{\"id\":\"6561\",\"type\":\"GlyphRenderer\"}]},\"id\":\"6571\",\"type\":\"LegendItem\"},{\"attributes\":{},\"id\":\"6630\",\"type\":\"Selection\"},{\"attributes\":{\"callback\":null},\"id\":\"6577\",\"type\":\"DataRange1d\"},{\"attributes\":{},\"id\":\"6631\",\"type\":\"UnionRenderers\"},{\"attributes\":{\"line_alpha\":0.1,\"line_color\":\"#1f77b4\",\"line_width\":2,\"x\":{\"field\":\"x\"},\"y\":{\"field\":\"y\"}},\"id\":\"6621\",\"type\":\"Line\"},{\"attributes\":{},\"id\":\"6589\",\"type\":\"BasicTicker\"},{\"attributes\":{\"background_fill_alpha\":{\"value\":0.5},\"items\":[{\"id\":\"6618\",\"type\":\"LegendItem\"},{\"id\":\"6632\",\"type\":\"LegendItem\"}],\"location\":\"center_right\",\"padding\":5,\"plot\":{\"id\":\"6573\",\"subtype\":\"Figure\",\"type\":\"Plot\"}},\"id\":\"6617\",\"type\":\"Legend\"},{\"attributes\":{},\"id\":\"6523\",\"type\":\"BasicTicker\"},{\"attributes\":{\"label\":{\"value\":\"validation\"},\"renderers\":[{\"id\":\"6622\",\"type\":\"GlyphRenderer\"}]},\"id\":\"6632\",\"type\":\"LegendItem\"},{\"attributes\":{\"axis_label\":\"epoch\",\"formatter\":{\"id\":\"6554\",\"type\":\"BasicTickFormatter\"},\"plot\":{\"id\":\"6512\",\"subtype\":\"Figure\",\"type\":\"Plot\"},\"ticker\":{\"id\":\"6523\",\"type\":\"BasicTicker\"}},\"id\":\"6522\",\"type\":\"LinearAxis\"},{\"attributes\":{\"axis_label\":\"epoch\",\"formatter\":{\"id\":\"6615\",\"type\":\"BasicTickFormatter\"},\"plot\":{\"id\":\"6573\",\"subtype\":\"Figure\",\"type\":\"Plot\"},\"ticker\":{\"id\":\"6584\",\"type\":\"BasicTicker\"}},\"id\":\"6583\",\"type\":\"LinearAxis\"},{\"attributes\":{\"callback\":null,\"renderers\":\"auto\"},\"id\":\"6593\",\"type\":\"HoverTool\"},{\"attributes\":{},\"id\":\"6552\",\"type\":\"BasicTickFormatter\"},{\"attributes\":{\"callback\":null,\"data\":{\"x\":[1,2,3,4,5,6,7,8,9,10],\"y\":[2.0,0.6666666666666666,0.4,0.2857142857142857,0.2222222222222222,0.18181818181818182,0.15384615384615385,0.13333333333333333,0.11764705882352941,0.10526315789473684]},\"selected\":{\"id\":\"6652\",\"type\":\"Selection\"},\"selection_policy\":{\"id\":\"6653\",\"type\":\"UnionRenderers\"}},\"id\":\"6619\",\"type\":\"ColumnDataSource\"},{\"attributes\":{\"children\":[{\"id\":\"6512\",\"subtype\":\"Figure\",\"type\":\"Plot\"},{\"id\":\"6573\",\"subtype\":\"Figure\",\"type\":\"Plot\"}]},\"id\":\"6655\",\"type\":\"Row\"},{\"attributes\":{\"active_drag\":\"auto\",\"active_inspect\":\"auto\",\"active_multi\":null,\"active_scroll\":\"auto\",\"active_tap\":\"auto\",\"tools\":[{\"id\":\"6593\",\"type\":\"HoverTool\"},{\"id\":\"6594\",\"type\":\"PanTool\"},{\"id\":\"6595\",\"type\":\"WheelZoomTool\"},{\"id\":\"6596\",\"type\":\"BoxZoomTool\"},{\"id\":\"6597\",\"type\":\"ResetTool\"}]},\"id\":\"6598\",\"type\":\"Toolbar\"},{\"attributes\":{},\"id\":\"6528\",\"type\":\"BasicTicker\"},{\"attributes\":{\"line_alpha\":0.1,\"line_color\":\"#1f77b4\",\"line_width\":2,\"x\":{\"field\":\"x\"},\"y\":{\"field\":\"y\"}},\"id\":\"6547\",\"type\":\"Line\"},{\"attributes\":{},\"id\":\"6641\",\"type\":\"Selection\"},{\"attributes\":{\"callback\":null},\"id\":\"6514\",\"type\":\"DataRange1d\"},{\"attributes\":{\"callback\":null,\"data\":{\"x\":[1,2,3,4,5,6,7,8,9,10],\"y\":[0.6999495879017328,0.8539016202835421,0.7936170811797059,0.9784902351900918,0.8541505385959085,0.9100590241779454,0.9986965400653272,0.9146465599761606,0.9973355458735699,0.9212953210407787]},\"selected\":{\"id\":\"6569\",\"type\":\"Selection\"},\"selection_policy\":{\"id\":\"6570\",\"type\":\"UnionRenderers\"}},\"id\":\"6545\",\"type\":\"ColumnDataSource\"},{\"attributes\":{\"callback\":null},\"id\":\"6516\",\"type\":\"DataRange1d\"},{\"attributes\":{\"line_color\":\"rgb(31, 119, 180)\",\"line_width\":2,\"x\":{\"field\":\"x\"},\"y\":{\"field\":\"y\"}},\"id\":\"6607\",\"type\":\"Line\"},{\"attributes\":{},\"id\":\"6642\",\"type\":\"UnionRenderers\"},{\"attributes\":{\"below\":[{\"id\":\"6583\",\"type\":\"LinearAxis\"}],\"left\":[{\"id\":\"6588\",\"type\":\"LinearAxis\"}],\"plot_height\":300,\"plot_width\":400,\"renderers\":[{\"id\":\"6583\",\"type\":\"LinearAxis\"},{\"id\":\"6587\",\"type\":\"Grid\"},{\"id\":\"6588\",\"type\":\"LinearAxis\"},{\"id\":\"6592\",\"type\":\"Grid\"},{\"id\":\"6601\",\"type\":\"BoxAnnotation\"},{\"id\":\"6617\",\"type\":\"Legend\"},{\"id\":\"6609\",\"type\":\"GlyphRenderer\"},{\"id\":\"6622\",\"type\":\"GlyphRenderer\"}],\"title\":{\"id\":\"6572\",\"type\":\"Title\"},\"toolbar\":{\"id\":\"6598\",\"type\":\"Toolbar\"},\"toolbar_location\":null,\"x_range\":{\"id\":\"6575\",\"type\":\"DataRange1d\"},\"x_scale\":{\"id\":\"6579\",\"type\":\"LinearScale\"},\"y_range\":{\"id\":\"6577\",\"type\":\"DataRange1d\"},\"y_scale\":{\"id\":\"6581\",\"type\":\"LinearScale\"}},\"id\":\"6573\",\"subtype\":\"Figure\",\"type\":\"Plot\"},{\"attributes\":{\"dimension\":1,\"plot\":{\"id\":\"6512\",\"subtype\":\"Figure\",\"type\":\"Plot\"},\"ticker\":{\"id\":\"6528\",\"type\":\"BasicTicker\"}},\"id\":\"6531\",\"type\":\"Grid\"},{\"attributes\":{},\"id\":\"6595\",\"type\":\"WheelZoomTool\"},{\"attributes\":{\"active_drag\":\"auto\",\"active_inspect\":\"auto\",\"active_multi\":null,\"active_scroll\":\"auto\",\"active_tap\":\"auto\",\"tools\":[{\"id\":\"6532\",\"type\":\"HoverTool\"},{\"id\":\"6533\",\"type\":\"PanTool\"},{\"id\":\"6534\",\"type\":\"WheelZoomTool\"},{\"id\":\"6535\",\"type\":\"BoxZoomTool\"},{\"id\":\"6536\",\"type\":\"ResetTool\"}]},\"id\":\"6537\",\"type\":\"Toolbar\"},{\"attributes\":{\"line_alpha\":0.1,\"line_color\":\"#1f77b4\",\"line_width\":2,\"x\":{\"field\":\"x\"},\"y\":{\"field\":\"y\"}},\"id\":\"6608\",\"type\":\"Line\"},{\"attributes\":{},\"id\":\"6613\",\"type\":\"BasicTickFormatter\"},{\"attributes\":{},\"id\":\"6652\",\"type\":\"Selection\"},{\"attributes\":{},\"id\":\"6594\",\"type\":\"PanTool\"},{\"attributes\":{\"formatter\":{\"id\":\"6552\",\"type\":\"BasicTickFormatter\"},\"plot\":{\"id\":\"6512\",\"subtype\":\"Figure\",\"type\":\"Plot\"},\"ticker\":{\"id\":\"6528\",\"type\":\"BasicTicker\"}},\"id\":\"6527\",\"type\":\"LinearAxis\"},{\"attributes\":{\"callback\":null,\"data\":{\"x\":[1,2,3,4,5,6,7,8,9,10],\"y\":[0.5,0.3333333333333333,0.25,0.2,0.16666666666666666,0.14285714285714285,0.125,0.1111111111111111,0.1,0.09090909090909091]},\"selected\":{\"id\":\"6630\",\"type\":\"Selection\"},\"selection_policy\":{\"id\":\"6631\",\"type\":\"UnionRenderers\"}},\"id\":\"6606\",\"type\":\"ColumnDataSource\"},{\"attributes\":{},\"id\":\"6615\",\"type\":\"BasicTickFormatter\"},{\"attributes\":{},\"id\":\"6653\",\"type\":\"UnionRenderers\"},{\"attributes\":{},\"id\":\"6584\",\"type\":\"BasicTicker\"},{\"attributes\":{\"children\":[{\"id\":\"6655\",\"type\":\"Row\"}]},\"id\":\"6656\",\"type\":\"Column\"},{\"attributes\":{\"plot\":{\"id\":\"6512\",\"subtype\":\"Figure\",\"type\":\"Plot\"},\"ticker\":{\"id\":\"6523\",\"type\":\"BasicTicker\"}},\"id\":\"6526\",\"type\":\"Grid\"},{\"attributes\":{},\"id\":\"6581\",\"type\":\"LinearScale\"},{\"attributes\":{\"tools\":[{\"id\":\"6532\",\"type\":\"HoverTool\"},{\"id\":\"6533\",\"type\":\"PanTool\"},{\"id\":\"6534\",\"type\":\"WheelZoomTool\"},{\"id\":\"6535\",\"type\":\"BoxZoomTool\"},{\"id\":\"6536\",\"type\":\"ResetTool\"},{\"id\":\"6593\",\"type\":\"HoverTool\"},{\"id\":\"6594\",\"type\":\"PanTool\"},{\"id\":\"6595\",\"type\":\"WheelZoomTool\"},{\"id\":\"6596\",\"type\":\"BoxZoomTool\"},{\"id\":\"6597\",\"type\":\"ResetTool\"}]},\"id\":\"6657\",\"type\":\"ProxyToolbar\"},{\"attributes\":{\"source\":{\"id\":\"6545\",\"type\":\"ColumnDataSource\"}},\"id\":\"6549\",\"type\":\"CDSView\"},{\"attributes\":{},\"id\":\"6569\",\"type\":\"Selection\"},{\"attributes\":{\"dimension\":1,\"plot\":{\"id\":\"6573\",\"subtype\":\"Figure\",\"type\":\"Plot\"},\"ticker\":{\"id\":\"6589\",\"type\":\"BasicTicker\"}},\"id\":\"6592\",\"type\":\"Grid\"},{\"attributes\":{\"line_color\":\"rgb(255, 165, 0)\",\"line_width\":2,\"x\":{\"field\":\"x\"},\"y\":{\"field\":\"y\"}},\"id\":\"6559\",\"type\":\"Line\"},{\"attributes\":{\"toolbar\":{\"id\":\"6657\",\"type\":\"ProxyToolbar\"},\"toolbar_location\":\"above\"},\"id\":\"6658\",\"type\":\"ToolbarBox\"},{\"attributes\":{\"source\":{\"id\":\"6606\",\"type\":\"ColumnDataSource\"}},\"id\":\"6610\",\"type\":\"CDSView\"},{\"attributes\":{\"plot\":null,\"text\":\"accuracy\"},\"id\":\"6511\",\"type\":\"Title\"},{\"attributes\":{\"formatter\":{\"id\":\"6613\",\"type\":\"BasicTickFormatter\"},\"plot\":{\"id\":\"6573\",\"subtype\":\"Figure\",\"type\":\"Plot\"},\"ticker\":{\"id\":\"6589\",\"type\":\"BasicTicker\"}},\"id\":\"6588\",\"type\":\"LinearAxis\"},{\"attributes\":{\"line_color\":\"rgb(31, 119, 180)\",\"line_width\":2,\"x\":{\"field\":\"x\"},\"y\":{\"field\":\"y\"}},\"id\":\"6546\",\"type\":\"Line\"},{\"attributes\":{},\"id\":\"6520\",\"type\":\"LinearScale\"},{\"attributes\":{},\"id\":\"6597\",\"type\":\"ResetTool\"},{\"attributes\":{\"below\":[{\"id\":\"6522\",\"type\":\"LinearAxis\"}],\"left\":[{\"id\":\"6527\",\"type\":\"LinearAxis\"}],\"plot_height\":300,\"plot_width\":400,\"renderers\":[{\"id\":\"6522\",\"type\":\"LinearAxis\"},{\"id\":\"6526\",\"type\":\"Grid\"},{\"id\":\"6527\",\"type\":\"LinearAxis\"},{\"id\":\"6531\",\"type\":\"Grid\"},{\"id\":\"6540\",\"type\":\"BoxAnnotation\"},{\"id\":\"6556\",\"type\":\"Legend\"},{\"id\":\"6548\",\"type\":\"GlyphRenderer\"},{\"id\":\"6561\",\"type\":\"GlyphRenderer\"}],\"title\":{\"id\":\"6511\",\"type\":\"Title\"},\"toolbar\":{\"id\":\"6537\",\"type\":\"Toolbar\"},\"toolbar_location\":null,\"x_range\":{\"id\":\"6514\",\"type\":\"DataRange1d\"},\"x_scale\":{\"id\":\"6518\",\"type\":\"LinearScale\"},\"y_range\":{\"id\":\"6516\",\"type\":\"DataRange1d\"},\"y_scale\":{\"id\":\"6520\",\"type\":\"LinearScale\"}},\"id\":\"6512\",\"subtype\":\"Figure\",\"type\":\"Plot\"},{\"attributes\":{\"callback\":null},\"id\":\"6575\",\"type\":\"DataRange1d\"},{\"attributes\":{\"overlay\":{\"id\":\"6540\",\"type\":\"BoxAnnotation\"}},\"id\":\"6535\",\"type\":\"BoxZoomTool\"},{\"attributes\":{\"data_source\":{\"id\":\"6606\",\"type\":\"ColumnDataSource\"},\"glyph\":{\"id\":\"6607\",\"type\":\"Line\"},\"hover_glyph\":null,\"muted_glyph\":null,\"nonselection_glyph\":{\"id\":\"6608\",\"type\":\"Line\"},\"selection_glyph\":null,\"view\":{\"id\":\"6610\",\"type\":\"CDSView\"}},\"id\":\"6609\",\"type\":\"GlyphRenderer\"},{\"attributes\":{\"line_alpha\":0.1,\"line_color\":\"#1f77b4\",\"line_width\":2,\"x\":{\"field\":\"x\"},\"y\":{\"field\":\"y\"}},\"id\":\"6560\",\"type\":\"Line\"},{\"attributes\":{\"label\":{\"value\":\"training\"},\"renderers\":[{\"id\":\"6609\",\"type\":\"GlyphRenderer\"}]},\"id\":\"6618\",\"type\":\"LegendItem\"},{\"attributes\":{\"line_color\":\"rgb(255, 165, 0)\",\"line_width\":2,\"x\":{\"field\":\"x\"},\"y\":{\"field\":\"y\"}},\"id\":\"6620\",\"type\":\"Line\"},{\"attributes\":{\"bottom_units\":\"screen\",\"fill_alpha\":{\"value\":0.5},\"fill_color\":{\"value\":\"lightgrey\"},\"left_units\":\"screen\",\"level\":\"overlay\",\"line_alpha\":{\"value\":1.0},\"line_color\":{\"value\":\"black\"},\"line_dash\":[4,4],\"line_width\":{\"value\":2},\"plot\":null,\"render_mode\":\"css\",\"right_units\":\"screen\",\"top_units\":\"screen\"},\"id\":\"6540\",\"type\":\"BoxAnnotation\"},{\"attributes\":{},\"id\":\"6579\",\"type\":\"LinearScale\"},{\"attributes\":{},\"id\":\"6554\",\"type\":\"BasicTickFormatter\"},{\"attributes\":{\"overlay\":{\"id\":\"6601\",\"type\":\"BoxAnnotation\"}},\"id\":\"6596\",\"type\":\"BoxZoomTool\"},{\"attributes\":{\"bottom_units\":\"screen\",\"fill_alpha\":{\"value\":0.5},\"fill_color\":{\"value\":\"lightgrey\"},\"left_units\":\"screen\",\"level\":\"overlay\",\"line_alpha\":{\"value\":1.0},\"line_color\":{\"value\":\"black\"},\"line_dash\":[4,4],\"line_width\":{\"value\":2},\"plot\":null,\"render_mode\":\"css\",\"right_units\":\"screen\",\"top_units\":\"screen\"},\"id\":\"6601\",\"type\":\"BoxAnnotation\"},{\"attributes\":{\"plot\":{\"id\":\"6573\",\"subtype\":\"Figure\",\"type\":\"Plot\"},\"ticker\":{\"id\":\"6584\",\"type\":\"BasicTicker\"}},\"id\":\"6587\",\"type\":\"Grid\"},{\"attributes\":{\"callback\":null,\"data\":{\"x\":[1,2,3,4,5,6,7,8,9,10],\"y\":[0.28407735042976734,0.709986033870176,0.8010584359655433,0.7492025354091909,0.9146576005720535,0.8685924692861137,0.9218416411829146,0.9330720294855241,0.9144471385683223,0.9840622714953978]},\"selected\":{\"id\":\"6641\",\"type\":\"Selection\"},\"selection_policy\":{\"id\":\"6642\",\"type\":\"UnionRenderers\"}},\"id\":\"6558\",\"type\":\"ColumnDataSource\"},{\"attributes\":{\"data_source\":{\"id\":\"6558\",\"type\":\"ColumnDataSource\"},\"glyph\":{\"id\":\"6559\",\"type\":\"Line\"},\"hover_glyph\":null,\"muted_glyph\":null,\"nonselection_glyph\":{\"id\":\"6560\",\"type\":\"Line\"},\"selection_glyph\":null,\"view\":{\"id\":\"6562\",\"type\":\"CDSView\"}},\"id\":\"6561\",\"type\":\"GlyphRenderer\"},{\"attributes\":{},\"id\":\"6518\",\"type\":\"LinearScale\"},{\"attributes\":{\"background_fill_alpha\":{\"value\":0.5},\"items\":[{\"id\":\"6557\",\"type\":\"LegendItem\"},{\"id\":\"6571\",\"type\":\"LegendItem\"}],\"location\":\"center_right\",\"padding\":5,\"plot\":{\"id\":\"6512\",\"subtype\":\"Figure\",\"type\":\"Plot\"}},\"id\":\"6556\",\"type\":\"Legend\"},{\"attributes\":{},\"id\":\"6570\",\"type\":\"UnionRenderers\"},{\"attributes\":{\"callback\":null,\"renderers\":\"auto\"},\"id\":\"6532\",\"type\":\"HoverTool\"},{\"attributes\":{},\"id\":\"6534\",\"type\":\"WheelZoomTool\"},{\"attributes\":{\"label\":{\"value\":\"training\"},\"renderers\":[{\"id\":\"6548\",\"type\":\"GlyphRenderer\"}]},\"id\":\"6557\",\"type\":\"LegendItem\"},{\"attributes\":{\"plot\":null,\"text\":\"mse\"},\"id\":\"6572\",\"type\":\"Title\"}],\"root_ids\":[\"6659\"]},\"title\":\"Bokeh Application\",\"version\":\"1.0.1\"}};\n",
       "  var render_items = [{\"docid\":\"30fc2326-5500-48b3-b17a-c68e63b45164\",\"notebook_comms_target\":\"6680\",\"roots\":{\"6659\":\"42e8e6cc-01dc-46e1-a309-df9d55e34f3a\"}}];\n",
       "  root.Bokeh.embed.embed_items_notebook(docs_json, render_items);\n",
       "\n",
       "  }\n",
       "  if (root.Bokeh !== undefined) {\n",
       "    embed_document(root);\n",
       "  } else {\n",
       "    var attempts = 0;\n",
       "    var timer = setInterval(function(root) {\n",
       "      if (root.Bokeh !== undefined) {\n",
       "        embed_document(root);\n",
       "        clearInterval(timer);\n",
       "      }\n",
       "      attempts++;\n",
       "      if (attempts > 100) {\n",
       "        console.log(\"Bokeh: ERROR: Unable to run BokehJS code because BokehJS library is missing\");\n",
       "        clearInterval(timer);\n",
       "      }\n",
       "    }, 10, root)\n",
       "  }\n",
       "})(window);"
      ],
      "application/vnd.bokehjs_exec.v0+json": ""
     },
     "metadata": {
      "application/vnd.bokehjs_exec.v0+json": {
       "id": "6659"
      }
     },
     "output_type": "display_data"
    },
    {
     "name": "stdout",
     "output_type": "stream",
     "text": [
      "accuracy:\n",
      "training   (min:    0.700, max:    0.999, cur:    0.921)\n",
      "validation (min:    0.284, max:    0.984, cur:    0.984)\n",
      "\n",
      "mse:\n",
      "training   (min:    0.091, max:    0.500, cur:    0.091)\n",
      "validation (min:    0.105, max:    2.000, cur:    0.105)\n"
     ]
    }
   ],
   "source": [
    "liveplot = PlotLosses(target=\"bokeh\", max_cols=3)\n",
    "\n",
    "for i in range(10):\n",
    "    liveplot.update({\n",
    "        'accuracy': 1 - np.random.rand() / (i + 2.),\n",
    "        'val_accuracy': 1 - np.random.rand() / (i + 0.5),\n",
    "        'mse': 1. / (i + 2.),\n",
    "        'val_mse': 1. / (i + 0.5)\n",
    "    })\n",
    "    liveplot.draw()\n",
    "    sleep(1)"
   ]
  },
  {
   "cell_type": "code",
   "execution_count": null,
   "metadata": {
    "collapsed": true
   },
   "outputs": [],
   "source": []
  }
 ],
 "metadata": {
  "anaconda-cloud": {},
  "kernelspec": {
   "display_name": "Python 3",
   "language": "python",
   "name": "python3"
  },
  "language_info": {
   "codemirror_mode": {
    "name": "ipython",
    "version": 3
   },
   "file_extension": ".py",
   "mimetype": "text/x-python",
   "name": "python",
   "nbconvert_exporter": "python",
   "pygments_lexer": "ipython3",
   "version": "3.6.8"
  },
  "toc": {
   "base_numbering": 1,
   "nav_menu": {},
   "number_sections": true,
   "sideBar": true,
   "skip_h1_title": false,
   "title_cell": "Table of Contents",
   "title_sidebar": "Contents",
   "toc_cell": false,
   "toc_position": {},
   "toc_section_display": true,
   "toc_window_display": false
  }
 },
 "nbformat": 4,
 "nbformat_minor": 1
}
