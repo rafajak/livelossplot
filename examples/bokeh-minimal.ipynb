{
 "cells": [
  {
   "cell_type": "code",
   "execution_count": 1,
   "metadata": {
    "ExecuteTime": {
     "end_time": "2019-03-02T08:24:59.816268Z",
     "start_time": "2019-03-02T08:24:59.492126Z"
    }
   },
   "outputs": [],
   "source": [
    "from time import sleep\n",
    "import numpy as np\n",
    "from livelossplot import PlotLosses"
   ]
  },
  {
   "cell_type": "code",
   "execution_count": 3,
   "metadata": {
    "ExecuteTime": {
     "end_time": "2019-03-02T08:25:50.230241Z",
     "start_time": "2019-03-02T08:25:37.675669Z"
    },
    "scrolled": false
   },
   "outputs": [
    {
     "data": {
      "text/html": [
       "\n",
       "\n",
       "\n",
       "\n",
       "\n",
       "\n",
       "  <div class=\"bk-root\" id=\"c8b9c98c-6002-4956-9563-56263a518323\"></div>\n"
      ]
     },
     "metadata": {},
     "output_type": "display_data"
    },
    {
     "data": {
      "application/javascript": [
       "(function(root) {\n",
       "  function embed_document(root) {\n",
       "    \n",
       "  var docs_json = {\"081a6d6d-1194-429d-aa52-cbb6f01b93cf\":{\"roots\":{\"references\":[{\"attributes\":{\"children\":[{\"id\":\"10078\",\"type\":\"ToolbarBox\"},{\"id\":\"10076\",\"type\":\"Column\"}]},\"id\":\"10079\",\"type\":\"Column\"},{\"attributes\":{\"callback\":null,\"data\":{\"x\":[1,2,3,4,5,6,7,8,9,10],\"y\":[0.9895309859704076,0.9858818241300499,0.8800209538837007,0.8561428674136353,0.9394838449168734,0.9293891403955732,0.9225820886224672,0.9694446680415131,0.9214708176153246,0.922526344306475]},\"selected\":{\"id\":\"9989\",\"type\":\"Selection\"},\"selection_policy\":{\"id\":\"9988\",\"type\":\"UnionRenderers\"}},\"id\":\"9965\",\"type\":\"ColumnDataSource\"},{\"attributes\":{},\"id\":\"9989\",\"type\":\"Selection\"},{\"attributes\":{\"overlay\":{\"id\":\"9960\",\"type\":\"BoxAnnotation\"}},\"id\":\"9955\",\"type\":\"BoxZoomTool\"},{\"attributes\":{\"line_alpha\":0.1,\"line_color\":\"#1f77b4\",\"line_width\":2,\"x\":{\"field\":\"x\"},\"y\":{\"field\":\"y\"}},\"id\":\"9967\",\"type\":\"Line\"},{\"attributes\":{},\"id\":\"10050\",\"type\":\"Selection\"},{\"attributes\":{},\"id\":\"10015\",\"type\":\"WheelZoomTool\"},{\"attributes\":{\"children\":[{\"id\":\"10075\",\"type\":\"Row\"}]},\"id\":\"10076\",\"type\":\"Column\"},{\"attributes\":{\"label\":{\"value\":\"validation\"},\"renderers\":[{\"id\":\"9981\",\"type\":\"GlyphRenderer\"}]},\"id\":\"9991\",\"type\":\"LegendItem\"},{\"attributes\":{},\"id\":\"9956\",\"type\":\"ResetTool\"},{\"attributes\":{\"callback\":null,\"renderers\":\"auto\"},\"id\":\"9952\",\"type\":\"HoverTool\"},{\"attributes\":{\"label\":{\"value\":\"validation\"},\"renderers\":[{\"id\":\"10042\",\"type\":\"GlyphRenderer\"}]},\"id\":\"10052\",\"type\":\"LegendItem\"},{\"attributes\":{\"overlay\":{\"id\":\"10021\",\"type\":\"BoxAnnotation\"}},\"id\":\"10016\",\"type\":\"BoxZoomTool\"},{\"attributes\":{\"below\":[{\"id\":\"10003\",\"type\":\"LinearAxis\"}],\"left\":[{\"id\":\"10008\",\"type\":\"LinearAxis\"}],\"plot_height\":300,\"plot_width\":400,\"renderers\":[{\"id\":\"10003\",\"type\":\"LinearAxis\"},{\"id\":\"10007\",\"type\":\"Grid\"},{\"id\":\"10008\",\"type\":\"LinearAxis\"},{\"id\":\"10012\",\"type\":\"Grid\"},{\"id\":\"10021\",\"type\":\"BoxAnnotation\"},{\"id\":\"10037\",\"type\":\"Legend\"},{\"id\":\"10029\",\"type\":\"GlyphRenderer\"},{\"id\":\"10042\",\"type\":\"GlyphRenderer\"}],\"title\":{\"id\":\"9992\",\"type\":\"Title\"},\"toolbar\":{\"id\":\"10018\",\"type\":\"Toolbar\"},\"toolbar_location\":null,\"x_range\":{\"id\":\"9995\",\"type\":\"DataRange1d\"},\"x_scale\":{\"id\":\"9999\",\"type\":\"LinearScale\"},\"y_range\":{\"id\":\"9997\",\"type\":\"DataRange1d\"},\"y_scale\":{\"id\":\"10001\",\"type\":\"LinearScale\"}},\"id\":\"9993\",\"subtype\":\"Figure\",\"type\":\"Plot\"},{\"attributes\":{\"active_drag\":\"auto\",\"active_inspect\":\"auto\",\"active_multi\":null,\"active_scroll\":\"auto\",\"active_tap\":\"auto\",\"tools\":[{\"id\":\"9952\",\"type\":\"HoverTool\"},{\"id\":\"9953\",\"type\":\"PanTool\"},{\"id\":\"9954\",\"type\":\"WheelZoomTool\"},{\"id\":\"9955\",\"type\":\"BoxZoomTool\"},{\"id\":\"9956\",\"type\":\"ResetTool\"}]},\"id\":\"9957\",\"type\":\"Toolbar\"},{\"attributes\":{\"children\":[{\"id\":\"9932\",\"subtype\":\"Figure\",\"type\":\"Plot\"},{\"id\":\"9993\",\"subtype\":\"Figure\",\"type\":\"Plot\"}]},\"id\":\"10075\",\"type\":\"Row\"},{\"attributes\":{},\"id\":\"9940\",\"type\":\"LinearScale\"},{\"attributes\":{},\"id\":\"10017\",\"type\":\"ResetTool\"},{\"attributes\":{\"plot\":null,\"text\":\"mse\"},\"id\":\"9992\",\"type\":\"Title\"},{\"attributes\":{},\"id\":\"10060\",\"type\":\"UnionRenderers\"},{\"attributes\":{\"bottom_units\":\"screen\",\"fill_alpha\":{\"value\":0.5},\"fill_color\":{\"value\":\"lightgrey\"},\"left_units\":\"screen\",\"level\":\"overlay\",\"line_alpha\":{\"value\":1.0},\"line_color\":{\"value\":\"black\"},\"line_dash\":[4,4],\"line_width\":{\"value\":2},\"plot\":null,\"render_mode\":\"css\",\"right_units\":\"screen\",\"top_units\":\"screen\"},\"id\":\"9960\",\"type\":\"BoxAnnotation\"},{\"attributes\":{\"active_drag\":\"auto\",\"active_inspect\":\"auto\",\"active_multi\":null,\"active_scroll\":\"auto\",\"active_tap\":\"auto\",\"tools\":[{\"id\":\"10013\",\"type\":\"HoverTool\"},{\"id\":\"10014\",\"type\":\"PanTool\"},{\"id\":\"10015\",\"type\":\"WheelZoomTool\"},{\"id\":\"10016\",\"type\":\"BoxZoomTool\"},{\"id\":\"10017\",\"type\":\"ResetTool\"}]},\"id\":\"10018\",\"type\":\"Toolbar\"},{\"attributes\":{},\"id\":\"10061\",\"type\":\"Selection\"},{\"attributes\":{\"below\":[{\"id\":\"9942\",\"type\":\"LinearAxis\"}],\"left\":[{\"id\":\"9947\",\"type\":\"LinearAxis\"}],\"plot_height\":300,\"plot_width\":400,\"renderers\":[{\"id\":\"9942\",\"type\":\"LinearAxis\"},{\"id\":\"9946\",\"type\":\"Grid\"},{\"id\":\"9947\",\"type\":\"LinearAxis\"},{\"id\":\"9951\",\"type\":\"Grid\"},{\"id\":\"9960\",\"type\":\"BoxAnnotation\"},{\"id\":\"9976\",\"type\":\"Legend\"},{\"id\":\"9968\",\"type\":\"GlyphRenderer\"},{\"id\":\"9981\",\"type\":\"GlyphRenderer\"}],\"title\":{\"id\":\"9931\",\"type\":\"Title\"},\"toolbar\":{\"id\":\"9957\",\"type\":\"Toolbar\"},\"toolbar_location\":null,\"x_range\":{\"id\":\"9934\",\"type\":\"DataRange1d\"},\"x_scale\":{\"id\":\"9938\",\"type\":\"LinearScale\"},\"y_range\":{\"id\":\"9936\",\"type\":\"DataRange1d\"},\"y_scale\":{\"id\":\"9940\",\"type\":\"LinearScale\"}},\"id\":\"9932\",\"subtype\":\"Figure\",\"type\":\"Plot\"},{\"attributes\":{\"callback\":null},\"id\":\"9995\",\"type\":\"DataRange1d\"},{\"attributes\":{\"bottom_units\":\"screen\",\"fill_alpha\":{\"value\":0.5},\"fill_color\":{\"value\":\"lightgrey\"},\"left_units\":\"screen\",\"level\":\"overlay\",\"line_alpha\":{\"value\":1.0},\"line_color\":{\"value\":\"black\"},\"line_dash\":[4,4],\"line_width\":{\"value\":2},\"plot\":null,\"render_mode\":\"css\",\"right_units\":\"screen\",\"top_units\":\"screen\"},\"id\":\"10021\",\"type\":\"BoxAnnotation\"},{\"attributes\":{\"data_source\":{\"id\":\"9965\",\"type\":\"ColumnDataSource\"},\"glyph\":{\"id\":\"9966\",\"type\":\"Line\"},\"hover_glyph\":null,\"muted_glyph\":null,\"nonselection_glyph\":{\"id\":\"9967\",\"type\":\"Line\"},\"selection_glyph\":null,\"view\":{\"id\":\"9969\",\"type\":\"CDSView\"}},\"id\":\"9968\",\"type\":\"GlyphRenderer\"},{\"attributes\":{},\"id\":\"10071\",\"type\":\"UnionRenderers\"},{\"attributes\":{\"plot\":null,\"text\":\"accuracy\"},\"id\":\"9931\",\"type\":\"Title\"},{\"attributes\":{\"callback\":null},\"id\":\"9997\",\"type\":\"DataRange1d\"},{\"attributes\":{},\"id\":\"10072\",\"type\":\"Selection\"},{\"attributes\":{\"data_source\":{\"id\":\"10026\",\"type\":\"ColumnDataSource\"},\"glyph\":{\"id\":\"10027\",\"type\":\"Line\"},\"hover_glyph\":null,\"muted_glyph\":null,\"nonselection_glyph\":{\"id\":\"10028\",\"type\":\"Line\"},\"selection_glyph\":null,\"view\":{\"id\":\"10030\",\"type\":\"CDSView\"}},\"id\":\"10029\",\"type\":\"GlyphRenderer\"},{\"attributes\":{\"formatter\":{\"id\":\"9973\",\"type\":\"BasicTickFormatter\"},\"plot\":{\"id\":\"9932\",\"subtype\":\"Figure\",\"type\":\"Plot\"},\"ticker\":{\"id\":\"9948\",\"type\":\"BasicTicker\"}},\"id\":\"9947\",\"type\":\"LinearAxis\"},{\"attributes\":{},\"id\":\"9999\",\"type\":\"LinearScale\"},{\"attributes\":{\"source\":{\"id\":\"9965\",\"type\":\"ColumnDataSource\"}},\"id\":\"9969\",\"type\":\"CDSView\"},{\"attributes\":{\"source\":{\"id\":\"10026\",\"type\":\"ColumnDataSource\"}},\"id\":\"10030\",\"type\":\"CDSView\"},{\"attributes\":{},\"id\":\"9938\",\"type\":\"LinearScale\"},{\"attributes\":{},\"id\":\"10001\",\"type\":\"LinearScale\"},{\"attributes\":{},\"id\":\"9971\",\"type\":\"BasicTickFormatter\"},{\"attributes\":{\"tools\":[{\"id\":\"9952\",\"type\":\"HoverTool\"},{\"id\":\"9953\",\"type\":\"PanTool\"},{\"id\":\"9954\",\"type\":\"WheelZoomTool\"},{\"id\":\"9955\",\"type\":\"BoxZoomTool\"},{\"id\":\"9956\",\"type\":\"ResetTool\"},{\"id\":\"10013\",\"type\":\"HoverTool\"},{\"id\":\"10014\",\"type\":\"PanTool\"},{\"id\":\"10015\",\"type\":\"WheelZoomTool\"},{\"id\":\"10016\",\"type\":\"BoxZoomTool\"},{\"id\":\"10017\",\"type\":\"ResetTool\"}]},\"id\":\"10077\",\"type\":\"ProxyToolbar\"},{\"attributes\":{},\"id\":\"10032\",\"type\":\"BasicTickFormatter\"},{\"attributes\":{\"callback\":null},\"id\":\"9936\",\"type\":\"DataRange1d\"},{\"attributes\":{\"axis_label\":\"epoch\",\"formatter\":{\"id\":\"10032\",\"type\":\"BasicTickFormatter\"},\"plot\":{\"id\":\"9993\",\"subtype\":\"Figure\",\"type\":\"Plot\"},\"ticker\":{\"id\":\"10004\",\"type\":\"BasicTicker\"}},\"id\":\"10003\",\"type\":\"LinearAxis\"},{\"attributes\":{\"toolbar\":{\"id\":\"10077\",\"type\":\"ProxyToolbar\"},\"toolbar_location\":\"above\"},\"id\":\"10078\",\"type\":\"ToolbarBox\"},{\"attributes\":{},\"id\":\"9973\",\"type\":\"BasicTickFormatter\"},{\"attributes\":{},\"id\":\"10034\",\"type\":\"BasicTickFormatter\"},{\"attributes\":{\"callback\":null},\"id\":\"9934\",\"type\":\"DataRange1d\"},{\"attributes\":{},\"id\":\"10004\",\"type\":\"BasicTicker\"},{\"attributes\":{\"background_fill_alpha\":{\"value\":0.5},\"items\":[{\"id\":\"9977\",\"type\":\"LegendItem\"},{\"id\":\"9991\",\"type\":\"LegendItem\"}],\"location\":\"center_right\",\"padding\":5,\"plot\":{\"id\":\"9932\",\"subtype\":\"Figure\",\"type\":\"Plot\"}},\"id\":\"9976\",\"type\":\"Legend\"},{\"attributes\":{\"background_fill_alpha\":{\"value\":0.5},\"items\":[{\"id\":\"10038\",\"type\":\"LegendItem\"},{\"id\":\"10052\",\"type\":\"LegendItem\"}],\"location\":\"center_right\",\"padding\":5,\"plot\":{\"id\":\"9993\",\"subtype\":\"Figure\",\"type\":\"Plot\"}},\"id\":\"10037\",\"type\":\"Legend\"},{\"attributes\":{\"plot\":{\"id\":\"9993\",\"subtype\":\"Figure\",\"type\":\"Plot\"},\"ticker\":{\"id\":\"10004\",\"type\":\"BasicTicker\"}},\"id\":\"10007\",\"type\":\"Grid\"},{\"attributes\":{},\"id\":\"9943\",\"type\":\"BasicTicker\"},{\"attributes\":{\"label\":{\"value\":\"training\"},\"renderers\":[{\"id\":\"9968\",\"type\":\"GlyphRenderer\"}]},\"id\":\"9977\",\"type\":\"LegendItem\"},{\"attributes\":{\"label\":{\"value\":\"training\"},\"renderers\":[{\"id\":\"10029\",\"type\":\"GlyphRenderer\"}]},\"id\":\"10038\",\"type\":\"LegendItem\"},{\"attributes\":{\"formatter\":{\"id\":\"10034\",\"type\":\"BasicTickFormatter\"},\"plot\":{\"id\":\"9993\",\"subtype\":\"Figure\",\"type\":\"Plot\"},\"ticker\":{\"id\":\"10009\",\"type\":\"BasicTicker\"}},\"id\":\"10008\",\"type\":\"LinearAxis\"},{\"attributes\":{\"axis_label\":\"epoch\",\"formatter\":{\"id\":\"9971\",\"type\":\"BasicTickFormatter\"},\"plot\":{\"id\":\"9932\",\"subtype\":\"Figure\",\"type\":\"Plot\"},\"ticker\":{\"id\":\"9943\",\"type\":\"BasicTicker\"}},\"id\":\"9942\",\"type\":\"LinearAxis\"},{\"attributes\":{\"callback\":null,\"data\":{\"x\":[1,2,3,4,5,6,7,8,9,10],\"y\":[-0.055462948122978695,0.9520040007218811,0.8140549172776959,0.8262450779299145,0.7811981484721837,0.9324200470591997,0.915389019969106,0.9169461625303408,0.8895421408040992,0.918399224617644]},\"selected\":{\"id\":\"10061\",\"type\":\"Selection\"},\"selection_policy\":{\"id\":\"10060\",\"type\":\"UnionRenderers\"}},\"id\":\"9978\",\"type\":\"ColumnDataSource\"},{\"attributes\":{},\"id\":\"10009\",\"type\":\"BasicTicker\"},{\"attributes\":{\"callback\":null,\"data\":{\"x\":[1,2,3,4,5,6,7,8,9,10],\"y\":[2.0,0.6666666666666666,0.4,0.2857142857142857,0.2222222222222222,0.18181818181818182,0.15384615384615385,0.13333333333333333,0.11764705882352941,0.10526315789473684]},\"selected\":{\"id\":\"10072\",\"type\":\"Selection\"},\"selection_policy\":{\"id\":\"10071\",\"type\":\"UnionRenderers\"}},\"id\":\"10039\",\"type\":\"ColumnDataSource\"},{\"attributes\":{\"plot\":{\"id\":\"9932\",\"subtype\":\"Figure\",\"type\":\"Plot\"},\"ticker\":{\"id\":\"9943\",\"type\":\"BasicTicker\"}},\"id\":\"9946\",\"type\":\"Grid\"},{\"attributes\":{\"line_color\":\"rgb(255, 165, 0)\",\"line_width\":2,\"x\":{\"field\":\"x\"},\"y\":{\"field\":\"y\"}},\"id\":\"9979\",\"type\":\"Line\"},{\"attributes\":{\"dimension\":1,\"plot\":{\"id\":\"9932\",\"subtype\":\"Figure\",\"type\":\"Plot\"},\"ticker\":{\"id\":\"9948\",\"type\":\"BasicTicker\"}},\"id\":\"9951\",\"type\":\"Grid\"},{\"attributes\":{\"dimension\":1,\"plot\":{\"id\":\"9993\",\"subtype\":\"Figure\",\"type\":\"Plot\"},\"ticker\":{\"id\":\"10009\",\"type\":\"BasicTicker\"}},\"id\":\"10012\",\"type\":\"Grid\"},{\"attributes\":{\"line_color\":\"rgb(255, 165, 0)\",\"line_width\":2,\"x\":{\"field\":\"x\"},\"y\":{\"field\":\"y\"}},\"id\":\"10040\",\"type\":\"Line\"},{\"attributes\":{\"line_alpha\":0.1,\"line_color\":\"#1f77b4\",\"line_width\":2,\"x\":{\"field\":\"x\"},\"y\":{\"field\":\"y\"}},\"id\":\"9980\",\"type\":\"Line\"},{\"attributes\":{},\"id\":\"10049\",\"type\":\"UnionRenderers\"},{\"attributes\":{\"line_color\":\"rgb(31, 119, 180)\",\"line_width\":2,\"x\":{\"field\":\"x\"},\"y\":{\"field\":\"y\"}},\"id\":\"10027\",\"type\":\"Line\"},{\"attributes\":{\"line_alpha\":0.1,\"line_color\":\"#1f77b4\",\"line_width\":2,\"x\":{\"field\":\"x\"},\"y\":{\"field\":\"y\"}},\"id\":\"10041\",\"type\":\"Line\"},{\"attributes\":{\"line_color\":\"rgb(31, 119, 180)\",\"line_width\":2,\"x\":{\"field\":\"x\"},\"y\":{\"field\":\"y\"}},\"id\":\"9966\",\"type\":\"Line\"},{\"attributes\":{\"data_source\":{\"id\":\"9978\",\"type\":\"ColumnDataSource\"},\"glyph\":{\"id\":\"9979\",\"type\":\"Line\"},\"hover_glyph\":null,\"muted_glyph\":null,\"nonselection_glyph\":{\"id\":\"9980\",\"type\":\"Line\"},\"selection_glyph\":null,\"view\":{\"id\":\"9982\",\"type\":\"CDSView\"}},\"id\":\"9981\",\"type\":\"GlyphRenderer\"},{\"attributes\":{\"callback\":null,\"data\":{\"x\":[1,2,3,4,5,6,7,8,9,10],\"y\":[0.5,0.3333333333333333,0.25,0.2,0.16666666666666666,0.14285714285714285,0.125,0.1111111111111111,0.1,0.09090909090909091]},\"selected\":{\"id\":\"10050\",\"type\":\"Selection\"},\"selection_policy\":{\"id\":\"10049\",\"type\":\"UnionRenderers\"}},\"id\":\"10026\",\"type\":\"ColumnDataSource\"},{\"attributes\":{\"data_source\":{\"id\":\"10039\",\"type\":\"ColumnDataSource\"},\"glyph\":{\"id\":\"10040\",\"type\":\"Line\"},\"hover_glyph\":null,\"muted_glyph\":null,\"nonselection_glyph\":{\"id\":\"10041\",\"type\":\"Line\"},\"selection_glyph\":null,\"view\":{\"id\":\"10043\",\"type\":\"CDSView\"}},\"id\":\"10042\",\"type\":\"GlyphRenderer\"},{\"attributes\":{},\"id\":\"9948\",\"type\":\"BasicTicker\"},{\"attributes\":{\"line_alpha\":0.1,\"line_color\":\"#1f77b4\",\"line_width\":2,\"x\":{\"field\":\"x\"},\"y\":{\"field\":\"y\"}},\"id\":\"10028\",\"type\":\"Line\"},{\"attributes\":{\"source\":{\"id\":\"9978\",\"type\":\"ColumnDataSource\"}},\"id\":\"9982\",\"type\":\"CDSView\"},{\"attributes\":{},\"id\":\"9953\",\"type\":\"PanTool\"},{\"attributes\":{\"callback\":null,\"renderers\":\"auto\"},\"id\":\"10013\",\"type\":\"HoverTool\"},{\"attributes\":{\"source\":{\"id\":\"10039\",\"type\":\"ColumnDataSource\"}},\"id\":\"10043\",\"type\":\"CDSView\"},{\"attributes\":{},\"id\":\"9988\",\"type\":\"UnionRenderers\"},{\"attributes\":{},\"id\":\"10014\",\"type\":\"PanTool\"},{\"attributes\":{},\"id\":\"9954\",\"type\":\"WheelZoomTool\"}],\"root_ids\":[\"10079\"]},\"title\":\"Bokeh Application\",\"version\":\"1.0.1\"}};\n",
       "  var render_items = [{\"docid\":\"081a6d6d-1194-429d-aa52-cbb6f01b93cf\",\"notebook_comms_target\":\"10480\",\"roots\":{\"10079\":\"c8b9c98c-6002-4956-9563-56263a518323\"}}];\n",
       "  root.Bokeh.embed.embed_items_notebook(docs_json, render_items);\n",
       "\n",
       "  }\n",
       "  if (root.Bokeh !== undefined) {\n",
       "    embed_document(root);\n",
       "  } else {\n",
       "    var attempts = 0;\n",
       "    var timer = setInterval(function(root) {\n",
       "      if (root.Bokeh !== undefined) {\n",
       "        embed_document(root);\n",
       "        clearInterval(timer);\n",
       "      }\n",
       "      attempts++;\n",
       "      if (attempts > 100) {\n",
       "        console.log(\"Bokeh: ERROR: Unable to run BokehJS code because BokehJS library is missing\");\n",
       "        clearInterval(timer);\n",
       "      }\n",
       "    }, 10, root)\n",
       "  }\n",
       "})(window);"
      ],
      "application/vnd.bokehjs_exec.v0+json": ""
     },
     "metadata": {
      "application/vnd.bokehjs_exec.v0+json": {
       "id": "10079"
      }
     },
     "output_type": "display_data"
    },
    {
     "name": "stdout",
     "output_type": "stream",
     "text": [
      "accuracy:\n",
      "training   (min:    0.856, max:    0.990, cur:    0.923)\n",
      "validation (min:   -0.055, max:    0.952, cur:    0.918)\n",
      "\n",
      "mse:\n",
      "training   (min:    0.091, max:    0.500, cur:    0.091)\n",
      "validation (min:    0.105, max:    2.000, cur:    0.105)\n"
     ]
    }
   ],
   "source": [
    "liveplot = PlotLosses(target=\"bokeh\", max_cols=3)\n",
    "\n",
    "for i in range(10):\n",
    "    liveplot.update({\n",
    "        'accuracy': 1 - np.random.rand() / (i + 2.),\n",
    "        'val_accuracy': 1 - np.random.rand() / (i + 0.5),\n",
    "        'mse': 1. / (i + 2.),\n",
    "        'val_mse': 1. / (i + 0.5)\n",
    "    })\n",
    "    liveplot.draw()\n",
    "    sleep(1)"
   ]
  },
  {
   "cell_type": "code",
   "execution_count": null,
   "metadata": {
    "collapsed": true
   },
   "outputs": [],
   "source": []
  }
 ],
 "metadata": {
  "anaconda-cloud": {},
  "kernelspec": {
   "display_name": "Python 3",
   "language": "python",
   "name": "python3"
  },
  "language_info": {
   "codemirror_mode": {
    "name": "ipython",
    "version": 3
   },
   "file_extension": ".py",
   "mimetype": "text/x-python",
   "name": "python",
   "nbconvert_exporter": "python",
   "pygments_lexer": "ipython3",
   "version": "3.6.8"
  },
  "toc": {
   "base_numbering": 1,
   "nav_menu": {},
   "number_sections": true,
   "sideBar": true,
   "skip_h1_title": false,
   "title_cell": "Table of Contents",
   "title_sidebar": "Contents",
   "toc_cell": false,
   "toc_position": {},
   "toc_section_display": true,
   "toc_window_display": false
  }
 },
 "nbformat": 4,
 "nbformat_minor": 1
}
